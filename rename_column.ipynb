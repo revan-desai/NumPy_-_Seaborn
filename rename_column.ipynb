{
  "nbformat": 4,
  "nbformat_minor": 0,
  "metadata": {
    "colab": {
      "provenance": [],
      "authorship_tag": "ABX9TyNxDCo2Hg516iWD2a27EJQT",
      "include_colab_link": true
    },
    "kernelspec": {
      "name": "python3",
      "display_name": "Python 3"
    },
    "language_info": {
      "name": "python"
    }
  },
  "cells": [
    {
      "cell_type": "markdown",
      "metadata": {
        "id": "view-in-github",
        "colab_type": "text"
      },
      "source": [
        "<a href=\"https://colab.research.google.com/github/revan-desai/NumPy_and_Seaborn/blob/main/rename_column.ipynb\" target=\"_parent\"><img src=\"https://colab.research.google.com/assets/colab-badge.svg\" alt=\"Open In Colab\"/></a>"
      ]
    },
    {
      "cell_type": "code",
      "execution_count": 12,
      "metadata": {
        "colab": {
          "base_uri": "https://localhost:8080/"
        },
        "id": "awlVY6jnE9Zn",
        "outputId": "e4471707-0275-4169-fb7c-e746c73ee51e"
      },
      "outputs": [
        {
          "output_type": "stream",
          "name": "stdout",
          "text": [
            "   sepal_length  sepal_width  petal_length  petal_width species\n",
            "0           5.1          3.5           1.4          0.2  setosa\n",
            "1           4.9          3.0           1.4          0.2  setosa\n",
            "2           4.7          3.2           1.3          0.2  setosa\n",
            "3           4.6          3.1           1.5          0.2  setosa\n",
            "4           5.0          3.6           1.4          0.2  setosa\n",
            "***********************************************************************\n",
            "   sepal_length  sepal_width  petal_length  petal_width category\n",
            "0           5.1          3.5           1.4          0.2   setosa\n",
            "1           4.9          3.0           1.4          0.2   setosa\n",
            "2           4.7          3.2           1.3          0.2   setosa\n",
            "3           4.6          3.1           1.5          0.2   setosa\n",
            "4           5.0          3.6           1.4          0.2   setosa\n"
          ]
        }
      ],
      "source": [
        "import seaborn as sns\n",
        "\n",
        "import matplotlib.pyplot as plt\n",
        "\n",
        "data=sns.load_dataset('iris')\n",
        "\n",
        "print(data.head())\n",
        "\n",
        "print('***********************************************************************')\n",
        "\n",
        "data.columns=data.columns.str.replace('species','category')\n",
        "\n",
        "print(data.head())"
      ]
    }
  ]
}