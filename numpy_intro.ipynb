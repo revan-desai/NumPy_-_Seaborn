{
  "nbformat": 4,
  "nbformat_minor": 0,
  "metadata": {
    "colab": {
      "provenance": [],
      "authorship_tag": "ABX9TyN4mFPATVJpFzXcayjeJ9ue",
      "include_colab_link": true
    },
    "kernelspec": {
      "name": "python3",
      "display_name": "Python 3"
    },
    "language_info": {
      "name": "python"
    }
  },
  "cells": [
    {
      "cell_type": "markdown",
      "metadata": {
        "id": "view-in-github",
        "colab_type": "text"
      },
      "source": [
        "<a href=\"https://colab.research.google.com/github/revan-desai/NumPy_basics/blob/main/numpy_intro.ipynb\" target=\"_parent\"><img src=\"https://colab.research.google.com/assets/colab-badge.svg\" alt=\"Open In Colab\"/></a>"
      ]
    },
    {
      "cell_type": "markdown",
      "source": [
        "\n",
        "\n",
        "1.  NumPy is python library.\n",
        "2.  NumPy is short form of numerical python.\n",
        "3.  NumPy is used for working with arrays\n",
        "\n",
        "Why Use NumPy?\n",
        "\n",
        "4.  In Python we have lists that serve the purpose of arrays, but they are slow\n",
        "    to process.\n",
        "5.  NumPy aims to provide an array object that is up to 50x faster than traditional Python lists.\n",
        "\n",
        "6. Arrays are very frequently used in data science, where speed and resources are very important.\n",
        "\n",
        "\n",
        "\n"
      ],
      "metadata": {
        "id": "FIEjbhZhJ0uT"
      }
    },
    {
      "cell_type": "code",
      "execution_count": 2,
      "metadata": {
        "id": "9YD1bjuQB4Wv",
        "colab": {
          "base_uri": "https://localhost:8080/"
        },
        "outputId": "36b43a84-4b89-4ddc-9f70-97a9944e15a4"
      },
      "outputs": [
        {
          "output_type": "stream",
          "name": "stdout",
          "text": [
            "[1 3 5 8 4]\n"
          ]
        }
      ],
      "source": [
        "import numpy as np\n",
        "\n",
        "a=np.array([1,3,5,8,4])\n",
        "\n",
        "print(a)\n"
      ]
    },
    {
      "cell_type": "markdown",
      "source": [
        "Why is NumPy Faster Than Lists?\n",
        "\n",
        "1.   NumPy arrays are stored at one continuous place in memory unlike lists, so\n",
        "  processes can access and manipulate them very efficiently.\n",
        "\n",
        "\n"
      ],
      "metadata": {
        "id": "eMM469fiLMyr"
      }
    },
    {
      "cell_type": "code",
      "source": [],
      "metadata": {
        "id": "Ue7tDkaILcK4"
      },
      "execution_count": null,
      "outputs": []
    }
  ]
}