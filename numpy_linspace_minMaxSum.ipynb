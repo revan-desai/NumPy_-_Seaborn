{
  "nbformat": 4,
  "nbformat_minor": 0,
  "metadata": {
    "colab": {
      "provenance": [],
      "authorship_tag": "ABX9TyOGROe+F3pvfHJizvaA867U",
      "include_colab_link": true
    },
    "kernelspec": {
      "name": "python3",
      "display_name": "Python 3"
    },
    "language_info": {
      "name": "python"
    }
  },
  "cells": [
    {
      "cell_type": "markdown",
      "metadata": {
        "id": "view-in-github",
        "colab_type": "text"
      },
      "source": [
        "<a href=\"https://colab.research.google.com/github/revan-desai/NumPy_basics/blob/main/numpy_linspace_minMaxSum.ipynb\" target=\"_parent\"><img src=\"https://colab.research.google.com/assets/colab-badge.svg\" alt=\"Open In Colab\"/></a>"
      ]
    },
    {
      "cell_type": "markdown",
      "source": [
        "## linspace\n",
        "\n",
        "### np.linspace(start , end , number of sample data)\n",
        "\n",
        "### The linspace() function returns the evenly spaced values over the given interval. The following example returns the 10 evenly separated values over the given interval 5-15"
      ],
      "metadata": {
        "id": "pXTfKeeQWXNi"
      }
    },
    {
      "cell_type": "code",
      "execution_count": 2,
      "metadata": {
        "colab": {
          "base_uri": "https://localhost:8080/"
        },
        "id": "etMlH-4jTQgd",
        "outputId": "82724db7-8cf1-454f-a0a3-17f24769b129"
      },
      "outputs": [
        {
          "output_type": "execute_result",
          "data": {
            "text/plain": [
              "array([ 1.        ,  2.55555556,  4.11111111,  5.66666667,  7.22222222,\n",
              "        8.77777778, 10.33333333, 11.88888889, 13.44444444, 15.        ])"
            ]
          },
          "metadata": {},
          "execution_count": 2
        }
      ],
      "source": [
        "import numpy as np\n",
        "\n",
        "arr=np.linspace(1,15,10)    # this will give equally space\n",
        "\n",
        "arr"
      ]
    },
    {
      "cell_type": "code",
      "source": [
        "import numpy as np\n",
        "\n",
        "b=np.linspace(1,10,10)\n",
        "\n",
        "print(b)\n",
        "\n",
        "print(type(b[1]))   #linspace return values in float datatype\n",
        "\n"
      ],
      "metadata": {
        "colab": {
          "base_uri": "https://localhost:8080/"
        },
        "id": "oHKC_4eqVyi1",
        "outputId": "fc6b7998-eb36-473a-835f-5375c0e45d42"
      },
      "execution_count": 10,
      "outputs": [
        {
          "output_type": "stream",
          "name": "stdout",
          "text": [
            "[ 1.  2.  3.  4.  5.  6.  7.  8.  9. 10.]\n",
            "<class 'numpy.float64'>\n"
          ]
        }
      ]
    },
    {
      "cell_type": "markdown",
      "source": [
        "## max()\n",
        "\n",
        "## min()\n",
        "\n",
        "## sum()"
      ],
      "metadata": {
        "id": "DEKfyCH1dKI0"
      }
    },
    {
      "cell_type": "code",
      "source": [
        "import numpy as np\n",
        "\n",
        "b=np.array([[77,55,4],[65,200,80]])\n",
        "\n",
        "print(np.max(b))\n",
        "\n",
        "print(np.min(b))\n",
        "\n",
        "print('addition of all elements in b is ', np.sum(b))"
      ],
      "metadata": {
        "colab": {
          "base_uri": "https://localhost:8080/"
        },
        "id": "kJStPwVsdQBP",
        "outputId": "7d3b7431-682a-4cf8-c648-10d9a914ee0a"
      },
      "execution_count": 18,
      "outputs": [
        {
          "output_type": "stream",
          "name": "stdout",
          "text": [
            "200\n",
            "4\n",
            "addition of all elements in b is  481\n"
          ]
        }
      ]
    },
    {
      "cell_type": "code",
      "source": [
        "import numpy as np\n",
        "\n",
        "b=np.array([[77,55,4],[65,200,80]])\n",
        "\n",
        "print(b)\n",
        "\n",
        "print(\"************************\")\n",
        "\n",
        "print(np.max(b,axis=0))\n",
        "\n",
        "print(np.max(b,axis=1))"
      ],
      "metadata": {
        "colab": {
          "base_uri": "https://localhost:8080/"
        },
        "id": "SPOfd6cvhyyS",
        "outputId": "18bcd375-15c7-468e-d454-9a9dd19446f9"
      },
      "execution_count": 30,
      "outputs": [
        {
          "output_type": "stream",
          "name": "stdout",
          "text": [
            "[[ 77  55   4]\n",
            " [ 65 200  80]]\n",
            "************************\n",
            "[ 77 200  80]\n",
            "[ 77 200]\n"
          ]
        }
      ]
    },
    {
      "cell_type": "code",
      "source": [
        "import numpy as np\n",
        "\n",
        "b=np.array([5,10,15,25])\n",
        "\n",
        "b1=np.array([1,2,3,4])\n",
        "\n",
        "print(np.sqrt(b))\n",
        "\n",
        "print(\"*****************\")\n",
        "\n",
        "print(np.std(b))\n",
        "\n",
        "print(\"*****************\")\n",
        "\n",
        "print(np.std(b1))"
      ],
      "metadata": {
        "colab": {
          "base_uri": "https://localhost:8080/"
        },
        "id": "Mmy2pzeboyNX",
        "outputId": "1b5c455f-f569-4aa7-8249-a0b8287b61e1"
      },
      "execution_count": 38,
      "outputs": [
        {
          "output_type": "stream",
          "name": "stdout",
          "text": [
            "[2.23606798 3.16227766 3.87298335 5.        ]\n",
            "*****************\n",
            "7.39509972887452\n",
            "*****************\n",
            "1.118033988749895\n"
          ]
        }
      ]
    }
  ]
}