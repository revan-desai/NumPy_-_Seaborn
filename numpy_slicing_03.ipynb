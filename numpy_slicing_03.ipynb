{
  "nbformat": 4,
  "nbformat_minor": 0,
  "metadata": {
    "colab": {
      "provenance": [],
      "authorship_tag": "ABX9TyMT2/xPuw8dDC5wL2Jv1OiB",
      "include_colab_link": true
    },
    "kernelspec": {
      "name": "python3",
      "display_name": "Python 3"
    },
    "language_info": {
      "name": "python"
    }
  },
  "cells": [
    {
      "cell_type": "markdown",
      "metadata": {
        "id": "view-in-github",
        "colab_type": "text"
      },
      "source": [
        "<a href=\"https://colab.research.google.com/github/revan-desai/NumPy_basics/blob/main/numpy_slicing_03.ipynb\" target=\"_parent\"><img src=\"https://colab.research.google.com/assets/colab-badge.svg\" alt=\"Open In Colab\"/></a>"
      ]
    },
    {
      "cell_type": "code",
      "execution_count": null,
      "metadata": {
        "colab": {
          "base_uri": "https://localhost:8080/"
        },
        "id": "I6k4Sx6dCDoH",
        "outputId": "8eb38553-ee9b-4d9c-88d3-d7cfa13127af"
      },
      "outputs": [
        {
          "output_type": "stream",
          "name": "stdout",
          "text": [
            "8\n",
            "11\n"
          ]
        }
      ],
      "source": [
        "import numpy as np\n",
        "\n",
        "arr=np.array([[[5,8,3],[5,4,6]],[[9,3,4],[7,5,11]]])   #3-dimensional array\n",
        "\n",
        "print(arr[0][0][1])\n",
        "\n",
        "print(arr[1][1][2])\n"
      ]
    },
    {
      "cell_type": "markdown",
      "source": [
        "## Slicing in an array"
      ],
      "metadata": {
        "id": "VpKADc6GMhXv"
      }
    },
    {
      "cell_type": "code",
      "source": [
        "import numpy as np\n",
        "\n",
        "arr=np.array([[[5,8,7],[8,4,6]],[[4,5,3],[2,9,3]]])\n",
        "\n",
        "print(arr[0,1,1])\n",
        "\n",
        "print(arr[1,1,2])\n",
        "\n",
        "print(arr[1,0,1])\n"
      ],
      "metadata": {
        "id": "vPjiBgEKKUzx",
        "colab": {
          "base_uri": "https://localhost:8080/"
        },
        "outputId": "851e4eed-e0e4-43de-88e3-f1c59bf3102c"
      },
      "execution_count": null,
      "outputs": [
        {
          "output_type": "stream",
          "name": "stdout",
          "text": [
            "4\n",
            "3\n",
            "5\n"
          ]
        }
      ]
    },
    {
      "cell_type": "code",
      "source": [
        "import numpy as np\n",
        "\n",
        "arr=np.array([[[5,8,7],[8,4,6],[4,2,7]],[[4,5,3],[2,9,3],[7,9,10]]])\n",
        "\n",
        "print(arr[0,2,2])\n",
        "\n",
        "print(arr[1,1,1])"
      ],
      "metadata": {
        "colab": {
          "base_uri": "https://localhost:8080/"
        },
        "id": "zs6GR6mjQeh0",
        "outputId": "c491e6a9-3b92-4c7a-bddf-83ccf46d1826"
      },
      "execution_count": 1,
      "outputs": [
        {
          "output_type": "stream",
          "name": "stdout",
          "text": [
            "7\n",
            "9\n"
          ]
        }
      ]
    }
  ]
}