{
  "nbformat": 4,
  "nbformat_minor": 0,
  "metadata": {
    "colab": {
      "provenance": [],
      "authorship_tag": "ABX9TyNZm73VFWPtgeB9iW32yVwR",
      "include_colab_link": true
    },
    "kernelspec": {
      "name": "python3",
      "display_name": "Python 3"
    },
    "language_info": {
      "name": "python"
    }
  },
  "cells": [
    {
      "cell_type": "markdown",
      "metadata": {
        "id": "view-in-github",
        "colab_type": "text"
      },
      "source": [
        "<a href=\"https://colab.research.google.com/github/revan-desai/NumPy_basics/blob/main/numpy_creating_array_02.ipynb\" target=\"_parent\"><img src=\"https://colab.research.google.com/assets/colab-badge.svg\" alt=\"Open In Colab\"/></a>"
      ]
    },
    {
      "cell_type": "code",
      "execution_count": 30,
      "metadata": {
        "colab": {
          "base_uri": "https://localhost:8080/"
        },
        "id": "Xu2228pvWbeQ",
        "outputId": "6c430228-99d9-47b5-c991-e9b8a2456f0c"
      },
      "outputs": [
        {
          "output_type": "stream",
          "name": "stdout",
          "text": [
            "[13.5965 22.     33.      0.     55.    ]\n",
            "['1' 'False' 'car' '9' '7']\n",
            "1\n",
            "<class 'numpy.str_'>\n",
            "bike car\n"
          ]
        }
      ],
      "source": [
        "import numpy as np\n",
        "\n",
        "a=np.array([1,False,\"car\",9,7])   # if it contains one string value will consider all other values as string.\n",
        "\n",
        "b=np.array([13.5965,22,33,False,55])      # if list contains one float number then it will consider all values as float.\n",
        "\n",
        "print(b)\n",
        "print(a)\n",
        "\n",
        "print(a.ndim)\n",
        "\n",
        "print(type(a[2]))\n",
        "\n",
        "print(\"bike \"+a[2])\n"
      ]
    },
    {
      "cell_type": "code",
      "source": [
        "\n"
      ],
      "metadata": {
        "colab": {
          "base_uri": "https://localhost:8080/"
        },
        "id": "WlC_UsDhXtdi",
        "outputId": "9f7a89a9-e7d9-4957-f04a-5b920c1bad1d"
      },
      "execution_count": 16,
      "outputs": [
        {
          "output_type": "stream",
          "name": "stdout",
          "text": [
            "2\n",
            "3\n"
          ]
        }
      ]
    }
  ]
}