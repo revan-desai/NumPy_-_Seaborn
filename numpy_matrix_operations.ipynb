{
  "nbformat": 4,
  "nbformat_minor": 0,
  "metadata": {
    "colab": {
      "provenance": [],
      "authorship_tag": "ABX9TyO1LuOnVjM29F879wEFXTMc",
      "include_colab_link": true
    },
    "kernelspec": {
      "name": "python3",
      "display_name": "Python 3"
    },
    "language_info": {
      "name": "python"
    }
  },
  "cells": [
    {
      "cell_type": "markdown",
      "metadata": {
        "id": "view-in-github",
        "colab_type": "text"
      },
      "source": [
        "<a href=\"https://colab.research.google.com/github/revan-desai/NumPy_basics/blob/main/numpy_matrix_operations.ipynb\" target=\"_parent\"><img src=\"https://colab.research.google.com/assets/colab-badge.svg\" alt=\"Open In Colab\"/></a>"
      ]
    },
    {
      "cell_type": "code",
      "execution_count": 25,
      "metadata": {
        "colab": {
          "base_uri": "https://localhost:8080/"
        },
        "id": "NUhlMpWtecfQ",
        "outputId": "b528bdaf-45cc-4d84-abaf-dde105dc6dfd"
      },
      "outputs": [
        {
          "output_type": "stream",
          "name": "stdout",
          "text": [
            "3\n",
            "[[[12 13 55]\n",
            "  [ 5  9 74]]]\n"
          ]
        }
      ],
      "source": [
        "import numpy as np\n",
        "\n",
        "arr1=np.array([[12,13,55],[5,9,74]],ndmin=3)   # we have changed the dimensions of array from 2D to 3D\n",
        "\n",
        "print(arr1.ndim)           # ndmin and ndim are different\n",
        "\n",
        "print(arr1)"
      ]
    },
    {
      "cell_type": "code",
      "source": [
        "import numpy as np\n",
        "\n",
        "arr1=np.array([[12,13,55],[5,9,74]],ndmin=3)\n",
        "\n",
        "np.shape(arr1)"
      ],
      "metadata": {
        "colab": {
          "base_uri": "https://localhost:8080/"
        },
        "id": "NNvPxDHAsTHv",
        "outputId": "f939b236-45b3-4c77-940b-b6d9a09311ad"
      },
      "execution_count": 26,
      "outputs": [
        {
          "output_type": "execute_result",
          "data": {
            "text/plain": [
              "(1, 2, 3)"
            ]
          },
          "metadata": {},
          "execution_count": 26
        }
      ]
    },
    {
      "cell_type": "markdown",
      "source": [
        "## for matrix multiplication condition is:\n",
        "\n",
        "row of 1st matrix must match column of 2nd matrix or vice versa\n",
        "\n"
      ],
      "metadata": {
        "id": "0zppEu5h1-vU"
      }
    },
    {
      "cell_type": "code",
      "source": [
        "import numpy as np\n",
        "\n",
        "arr1=np.array([[12,88,66]],ndmin=2)\n",
        "\n",
        "arr2=np.array([[11,98,45],[25,50,60],[56,26,13]],ndmin=3)\n",
        "\n",
        "print(arr1)\n",
        "                              # remember it is not necessary to have both matrix should be of equal dimensions\n",
        "print(arr2)                     # try changing dimensions using ndmin still multiplication will happen only condition is this.....\n",
        "                                #row of 1st matrix must match column of 2nd matrix or vice versa\n",
        "\n",
        "result=np.matmul(arr1,arr2)\n",
        "\n",
        "result"
      ],
      "metadata": {
        "colab": {
          "base_uri": "https://localhost:8080/"
        },
        "id": "kMMRCfUE2Aq0",
        "outputId": "99713958-547c-40ff-b2ff-a37fa0eb7529"
      },
      "execution_count": 40,
      "outputs": [
        {
          "output_type": "stream",
          "name": "stdout",
          "text": [
            "[[12 88 66]]\n",
            "[[[11 98 45]\n",
            "  [25 50 60]\n",
            "  [56 26 13]]]\n"
          ]
        },
        {
          "output_type": "execute_result",
          "data": {
            "text/plain": [
              "array([[[6028, 7292, 6678]]])"
            ]
          },
          "metadata": {},
          "execution_count": 40
        }
      ]
    },
    {
      "cell_type": "markdown",
      "source": [
        "#dot() is recommended over matmul ....which is same as matmul"
      ],
      "metadata": {
        "id": "y8ULKo2o6NOK"
      }
    },
    {
      "cell_type": "code",
      "source": [
        "import numpy as np\n",
        "\n",
        "arr1=np.array([[12,88,66]],ndmin=2)\n",
        "\n",
        "arr2=np.array([[11,98,45],[25,50,60],[56,26,13]],ndmin=2)\n",
        "\n",
        "result1=np.dot(arr1,arr2)\n",
        "\n",
        "result1\n",
        "\n"
      ],
      "metadata": {
        "colab": {
          "base_uri": "https://localhost:8080/"
        },
        "id": "V0kIY_g55lSv",
        "outputId": "14fd8fe2-b9b0-482b-f7f8-982a2b872222"
      },
      "execution_count": 44,
      "outputs": [
        {
          "output_type": "execute_result",
          "data": {
            "text/plain": [
              "array([[6028, 7292, 6678]])"
            ]
          },
          "metadata": {},
          "execution_count": 44
        }
      ]
    },
    {
      "cell_type": "code",
      "source": [
        "import numpy as np\n",
        "arr1=np.array([12,88,66])\n",
        "\n",
        "arr2=np.array([[11,98,45],[25,50,60],[56,26,13]])\n",
        "\n",
        "result3=np.dot(arr1,arr2)\n",
        "\n",
        "result3"
      ],
      "metadata": {
        "colab": {
          "base_uri": "https://localhost:8080/"
        },
        "id": "34wP_0Y64s-i",
        "outputId": "1f077509-508e-4c0a-8909-ecce771c6c93"
      },
      "execution_count": 50,
      "outputs": [
        {
          "output_type": "execute_result",
          "data": {
            "text/plain": [
              "array([6028, 7292, 6678])"
            ]
          },
          "metadata": {},
          "execution_count": 50
        }
      ]
    },
    {
      "cell_type": "markdown",
      "source": [
        "## numpy append()\n"
      ],
      "metadata": {
        "id": "-xGSWL6w8cAY"
      }
    },
    {
      "cell_type": "code",
      "source": [
        "import numpy as np\n",
        "\n",
        "a=np.array([[10, 20, 30], [40, 50, 60], [70, 80, 90]])\n",
        "b=np.array([[11, 21, 31], [42, 52, 62], [73, 83, 93]])\n",
        "\n",
        "c=np.append(a,b,axis=0)   # axis=0 means changes will happen at row level\n",
        "\n",
        "c"
      ],
      "metadata": {
        "colab": {
          "base_uri": "https://localhost:8080/"
        },
        "id": "mRQ0odPN8fuA",
        "outputId": "16bf5c01-740c-49dc-bfb9-92caef5b5dc0"
      },
      "execution_count": 51,
      "outputs": [
        {
          "output_type": "execute_result",
          "data": {
            "text/plain": [
              "array([[10, 20, 30],\n",
              "       [40, 50, 60],\n",
              "       [70, 80, 90],\n",
              "       [11, 21, 31],\n",
              "       [42, 52, 62],\n",
              "       [73, 83, 93]])"
            ]
          },
          "metadata": {},
          "execution_count": 51
        }
      ]
    },
    {
      "cell_type": "code",
      "source": [
        "import numpy as np\n",
        "a=np.array([[10, 20, 30], [40, 50, 60], [70, 80, 90]])\n",
        "b=np.array([[11, 21, 31], [42, 52, 62], [73, 83, 93]])\n",
        "\n",
        "c1=np.append(a,b,axis=1)   # axis=1 means changes will happen at column level\n",
        "c1"
      ],
      "metadata": {
        "colab": {
          "base_uri": "https://localhost:8080/"
        },
        "id": "jkSskG5t80Ko",
        "outputId": "8dac3b07-515e-4919-ade3-b249a294685b"
      },
      "execution_count": 54,
      "outputs": [
        {
          "output_type": "execute_result",
          "data": {
            "text/plain": [
              "array([[10, 20, 30, 11, 21, 31],\n",
              "       [40, 50, 60, 42, 52, 62],\n",
              "       [70, 80, 90, 73, 83, 93]])"
            ]
          },
          "metadata": {},
          "execution_count": 54
        }
      ]
    },
    {
      "cell_type": "markdown",
      "source": [
        "## numpy sum()"
      ],
      "metadata": {
        "id": "Vuy-MMym9qrj"
      }
    },
    {
      "cell_type": "code",
      "source": [
        "a=np.array([[10, 20, 30], [40, 50, 60]])\n",
        "b=np.array([[11, 21, 31], [42, 52, 62]])\n",
        "\n",
        "sum1=np.sum(a)\n",
        "\n",
        "sum2=np.sum(b)\n",
        "\n",
        "print(sum1)\n",
        "\n",
        "print(sum2)"
      ],
      "metadata": {
        "colab": {
          "base_uri": "https://localhost:8080/"
        },
        "id": "oZO2b18m9tZf",
        "outputId": "465e3961-5368-4f47-967f-1ee088708a4c"
      },
      "execution_count": 61,
      "outputs": [
        {
          "output_type": "stream",
          "name": "stdout",
          "text": [
            "210\n",
            "219\n"
          ]
        }
      ]
    },
    {
      "cell_type": "markdown",
      "source": [
        "### but what if you want to add two array.....then use add() function"
      ],
      "metadata": {
        "id": "U3I20L3LClaC"
      }
    },
    {
      "cell_type": "code",
      "source": [
        "a=np.array([[10, 20, 30], [40, 50, 60], [70, 80, 90]])\n",
        "b=np.array([[11, 21, 31], [42, 52, 62], [73, 83, 93]])\n",
        "print(a)\n",
        "print('*****************************')\n",
        "print(b)\n",
        "print('*****************************')\n",
        "sum3=np.add(a,b)\n",
        "\n",
        "print(sum3)"
      ],
      "metadata": {
        "colab": {
          "base_uri": "https://localhost:8080/"
        },
        "id": "HKb6U9wLCiCY",
        "outputId": "983ae8a6-3280-4881-8b59-31f3e4f53bea"
      },
      "execution_count": 65,
      "outputs": [
        {
          "output_type": "stream",
          "name": "stdout",
          "text": [
            "[[10 20 30]\n",
            " [40 50 60]\n",
            " [70 80 90]]\n",
            "*****************************\n",
            "[[11 21 31]\n",
            " [42 52 62]\n",
            " [73 83 93]]\n",
            "*****************************\n",
            "[[ 21  41  61]\n",
            " [ 82 102 122]\n",
            " [143 163 183]]\n"
          ]
        }
      ]
    },
    {
      "cell_type": "markdown",
      "source": [
        "## transpose ()"
      ],
      "metadata": {
        "id": "QKK1kChYDvxD"
      }
    },
    {
      "cell_type": "code",
      "source": [
        "import numpy as np\n",
        "\n",
        "a=np.array([[55,66,77]])   # this array has to be in 2 dimensional to transpose try in 1- dimension dont work\n",
        "\n",
        "print(a)\n",
        "\n",
        "print(np.shape(a))\n",
        "\n",
        "b=np.transpose(a)\n",
        "\n",
        "print(b)\n",
        "\n",
        "print(np.shape(b))"
      ],
      "metadata": {
        "colab": {
          "base_uri": "https://localhost:8080/"
        },
        "id": "8UGymrKoENH_",
        "outputId": "085a0e75-3942-4501-d18f-e0181959bb82"
      },
      "execution_count": 73,
      "outputs": [
        {
          "output_type": "stream",
          "name": "stdout",
          "text": [
            "[[55 66 77]]\n",
            "(1, 3)\n",
            "[[55]\n",
            " [66]\n",
            " [77]]\n",
            "(3, 1)\n"
          ]
        }
      ]
    },
    {
      "cell_type": "markdown",
      "source": [
        "## unique()"
      ],
      "metadata": {
        "id": "vZGRyQQbF6ei"
      }
    },
    {
      "cell_type": "code",
      "source": [
        "import numpy as np\n",
        "\n",
        "a = np.array([[4, 1, 0, 5, 5], [4, 1, 0, 5, 5], [2, 3, 4, 3, 3],[5, 9, 8, 9, 9],[2, 3, 4, 10, 10]])\n",
        "\n",
        "print(a)\n",
        "\n",
        "print('******************************')\n",
        "u=np.unique(a,axis=1)   # axis=1 means only unique column will show.....\n",
        "\n",
        "print(u)               # remember unique function removes duplicate column and also arrange column in ascending manner with respect to first row."
      ],
      "metadata": {
        "colab": {
          "base_uri": "https://localhost:8080/"
        },
        "id": "x8eqPpVQF-Vo",
        "outputId": "7c5f1c21-28b3-4b3e-d89d-99aafd605114"
      },
      "execution_count": 80,
      "outputs": [
        {
          "output_type": "stream",
          "name": "stdout",
          "text": [
            "[[ 4  1  0  5  5]\n",
            " [ 4  1  0  5  5]\n",
            " [ 2  3  4  3  3]\n",
            " [ 5  9  8  9  9]\n",
            " [ 2  3  4 10 10]]\n",
            "[[ 0  1  4  5]\n",
            " [ 0  1  4  5]\n",
            " [ 4  3  2  3]\n",
            " [ 8  9  5  9]\n",
            " [ 4  3  2 10]]\n"
          ]
        }
      ]
    },
    {
      "cell_type": "code",
      "source": [
        "import numpy as np\n",
        "\n",
        "a = np.array([[4, 1, 0, 5, 5], [4, 1, 0, 5, 5], [2, 3, 4, 3, 3],[5, 9, 8, 9, 9],[2, 3, 4, 10, 10]])\n",
        "\n",
        "print(a)\n",
        "\n",
        "print('******************************')\n",
        "u1=np.unique(a,axis=1)   # axis=1 means only unique rows will show and in ascending manner with respect to first column\n",
        "\n",
        "print(u1)\n"
      ],
      "metadata": {
        "colab": {
          "base_uri": "https://localhost:8080/"
        },
        "id": "_9v3NYvUHlIa",
        "outputId": "52373129-aa56-4d55-853d-89bc95d81799"
      },
      "execution_count": 86,
      "outputs": [
        {
          "output_type": "stream",
          "name": "stdout",
          "text": [
            "[[ 4  1  0  5  5]\n",
            " [ 4  1  0  5  5]\n",
            " [ 2  3  4  3  3]\n",
            " [ 5  9  8  9  9]\n",
            " [ 2  3  4 10 10]]\n",
            "******************************\n",
            "[[ 0  1  4  5]\n",
            " [ 0  1  4  5]\n",
            " [ 4  3  2  3]\n",
            " [ 8  9  5  9]\n",
            " [ 4  3  2 10]]\n"
          ]
        }
      ]
    },
    {
      "cell_type": "code",
      "source": [],
      "metadata": {
        "id": "o55pavk4IqjN"
      },
      "execution_count": null,
      "outputs": []
    }
  ]
}