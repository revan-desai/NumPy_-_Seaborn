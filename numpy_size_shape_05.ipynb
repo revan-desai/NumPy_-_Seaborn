{
  "nbformat": 4,
  "nbformat_minor": 0,
  "metadata": {
    "colab": {
      "provenance": [],
      "authorship_tag": "ABX9TyPYYEr1BLHBJR4gTQb4Zs1X",
      "include_colab_link": true
    },
    "kernelspec": {
      "name": "python3",
      "display_name": "Python 3"
    },
    "language_info": {
      "name": "python"
    }
  },
  "cells": [
    {
      "cell_type": "markdown",
      "metadata": {
        "id": "view-in-github",
        "colab_type": "text"
      },
      "source": [
        "<a href=\"https://colab.research.google.com/github/revan-desai/NumPy_basics/blob/main/numpy_size_shape_05.ipynb\" target=\"_parent\"><img src=\"https://colab.research.google.com/assets/colab-badge.svg\" alt=\"Open In Colab\"/></a>"
      ]
    },
    {
      "cell_type": "markdown",
      "source": [
        "##  size() and shape() of array"
      ],
      "metadata": {
        "id": "YD8G3-N3O4au"
      }
    },
    {
      "cell_type": "code",
      "source": [
        "import numpy as np\n",
        "\n",
        "arr=np.array([[1,5,8],[7,6,9]])\n",
        "\n",
        "print(np.ndim(arr))\n",
        "\n",
        "print(np.size(arr))      # will return total elements in an array\n",
        "\n",
        "print(np.shape(arr))\n",
        "\n"
      ],
      "metadata": {
        "colab": {
          "base_uri": "https://localhost:8080/"
        },
        "id": "JY6bFD2K80Q-",
        "outputId": "061a63bf-a5c2-4227-f52f-b42544a79fca"
      },
      "execution_count": null,
      "outputs": [
        {
          "output_type": "stream",
          "name": "stdout",
          "text": [
            "2\n",
            "6\n",
            "(2, 3)\n"
          ]
        },
        {
          "output_type": "execute_result",
          "data": {
            "text/plain": [
              "array([[1, 5],\n",
              "       [8, 7],\n",
              "       [6, 9]])"
            ]
          },
          "metadata": {},
          "execution_count": 1
        }
      ]
    },
    {
      "cell_type": "markdown",
      "source": [
        "# reshape ()--\n",
        "###np.reshape(arr)--> will produce new array\n",
        "###and\n",
        "###arr.reshape --> will make changes into original array"
      ],
      "metadata": {
        "id": "8k7N4Ae7Od3T"
      }
    },
    {
      "cell_type": "code",
      "source": [
        "import numpy as np\n",
        "\n",
        "arr=np.array([[1,5,8],[7,6,9]])\n",
        "\n",
        "np.reshape(arr,(3,2))   # the reshaped array must contain same number of elements hence be careful while passing values...here 3*2=6\n",
        "                        # and total elements in original array are also 6\n"
      ],
      "metadata": {
        "colab": {
          "base_uri": "https://localhost:8080/"
        },
        "id": "yC17452kOpoQ",
        "outputId": "b9714ef2-14a0-4dc1-930a-aad6f2d52f09"
      },
      "execution_count": 8,
      "outputs": [
        {
          "output_type": "execute_result",
          "data": {
            "text/plain": [
              "array([[1, 5],\n",
              "       [8, 7],\n",
              "       [6, 9]])"
            ]
          },
          "metadata": {},
          "execution_count": 8
        }
      ]
    },
    {
      "cell_type": "code",
      "source": [
        "import numpy as np\n",
        "\n",
        "arr=np.array([[1,5,8],[7,6,9],[5,6,11]])\n",
        "\n",
        "np.ndim(arr)"
      ],
      "metadata": {
        "colab": {
          "base_uri": "https://localhost:8080/"
        },
        "id": "7fPOpxiFRaFl",
        "outputId": "37467f8b-ef2e-4844-cf71-49e24253d768"
      },
      "execution_count": 10,
      "outputs": [
        {
          "output_type": "execute_result",
          "data": {
            "text/plain": [
              "2"
            ]
          },
          "metadata": {},
          "execution_count": 10
        }
      ]
    },
    {
      "cell_type": "markdown",
      "source": [
        "# resize()--\n",
        "\n",
        "###np.resize(arr)--> will produce new array\n",
        "###and\n",
        "###arr.resize --> will make changes into original array\n",
        "\n"
      ],
      "metadata": {
        "id": "VwzJ176iPFYu"
      }
    },
    {
      "cell_type": "code",
      "source": [
        "import numpy as np\n",
        "\n",
        "arr=np.array([[1,5,8],[7,6,9]])\n",
        "\n",
        "np.resize(arr,(5,5))     # in resize you can pass any dimensions.....the values will keep on repeating"
      ],
      "metadata": {
        "colab": {
          "base_uri": "https://localhost:8080/"
        },
        "id": "Bd75PUsnA7QL",
        "outputId": "6cb69a57-008c-4dc6-a29d-0922c2dc5913"
      },
      "execution_count": null,
      "outputs": [
        {
          "output_type": "execute_result",
          "data": {
            "text/plain": [
              "array([[1, 5, 8, 7, 6],\n",
              "       [9, 1, 5, 8, 7],\n",
              "       [6, 9, 1, 5, 8],\n",
              "       [7, 6, 9, 1, 5],\n",
              "       [8, 7, 6, 9, 1]])"
            ]
          },
          "metadata": {},
          "execution_count": 34
        }
      ]
    },
    {
      "cell_type": "code",
      "source": [
        "import numpy as np\n",
        "\n",
        "arr=np.array([[1,5,8],[7,6,9]])\n",
        "\n",
        "np.resize(arr,(4,4))"
      ],
      "metadata": {
        "colab": {
          "base_uri": "https://localhost:8080/"
        },
        "id": "erWAdPhtRKYE",
        "outputId": "8d245e0c-c9da-4a38-fece-f8c8ae1949cd"
      },
      "execution_count": 12,
      "outputs": [
        {
          "output_type": "execute_result",
          "data": {
            "text/plain": [
              "array([[1, 5, 8, 7],\n",
              "       [6, 9, 1, 5],\n",
              "       [8, 7, 6, 9],\n",
              "       [1, 5, 8, 7]])"
            ]
          },
          "metadata": {},
          "execution_count": 12
        }
      ]
    }
  ]
}