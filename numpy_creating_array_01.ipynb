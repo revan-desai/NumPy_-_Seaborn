{
  "nbformat": 4,
  "nbformat_minor": 0,
  "metadata": {
    "colab": {
      "provenance": [],
      "authorship_tag": "ABX9TyOe/9SlQdZFzD4l+Sn76Dhn",
      "include_colab_link": true
    },
    "kernelspec": {
      "name": "python3",
      "display_name": "Python 3"
    },
    "language_info": {
      "name": "python"
    }
  },
  "cells": [
    {
      "cell_type": "markdown",
      "metadata": {
        "id": "view-in-github",
        "colab_type": "text"
      },
      "source": [
        "<a href=\"https://colab.research.google.com/github/revan-desai/NumPy_basics/blob/main/numpy_creating_array_01.ipynb\" target=\"_parent\"><img src=\"https://colab.research.google.com/assets/colab-badge.svg\" alt=\"Open In Colab\"/></a>"
      ]
    },
    {
      "cell_type": "markdown",
      "source": [
        "## 0-D zero dimensional array"
      ],
      "metadata": {
        "id": "drStzzQKNCDl"
      }
    },
    {
      "cell_type": "code",
      "execution_count": 4,
      "metadata": {
        "colab": {
          "base_uri": "https://localhost:8080/"
        },
        "id": "321g7_V6MmPz",
        "outputId": "3db8797e-e156-473e-c204-50bca35405b3"
      },
      "outputs": [
        {
          "output_type": "stream",
          "name": "stdout",
          "text": [
            "[12]\n"
          ]
        }
      ],
      "source": [
        "import numpy as np\n",
        "\n",
        "a=np.array([12])\n",
        "\n",
        "print(a)\n",
        "\n"
      ]
    },
    {
      "cell_type": "markdown",
      "source": [
        "## 1-D one dimensional array"
      ],
      "metadata": {
        "id": "JGDdj02vNc2l"
      }
    },
    {
      "cell_type": "code",
      "source": [
        "import numpy as np\n",
        "a=np.array([5,9,6,7,3])\n",
        "print(a)\n",
        "print(a.ndim)"
      ],
      "metadata": {
        "id": "-JQ-ubQBNj1N"
      },
      "execution_count": null,
      "outputs": []
    },
    {
      "cell_type": "markdown",
      "source": [
        "## 2-D one dimensional array"
      ],
      "metadata": {
        "id": "P_euUx9RNz-8"
      }
    },
    {
      "cell_type": "code",
      "source": [
        "import numpy as np\n",
        "a=np.array([[99,44,33],[25,47,12]])\n",
        "print(a)\n",
        "print(\"dimention of this array are\", a.ndim)\n"
      ],
      "metadata": {
        "colab": {
          "base_uri": "https://localhost:8080/"
        },
        "id": "JWWTbbj6N39U",
        "outputId": "0d4c8b5f-c6b3-4ea9-ec53-8e9fef9b9495"
      },
      "execution_count": 7,
      "outputs": [
        {
          "output_type": "stream",
          "name": "stdout",
          "text": [
            "[[99 44 33]\n",
            " [25 47 12]]\n",
            "dimention of this array are 2\n"
          ]
        }
      ]
    },
    {
      "cell_type": "markdown",
      "source": [],
      "metadata": {
        "id": "4VZU8kztPPbd"
      }
    }
  ]
}