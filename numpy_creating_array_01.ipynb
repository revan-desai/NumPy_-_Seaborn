{
  "nbformat": 4,
  "nbformat_minor": 0,
  "metadata": {
    "colab": {
      "provenance": [],
      "authorship_tag": "ABX9TyMCkNrCIy57y8k46RB2Dew/",
      "include_colab_link": true
    },
    "kernelspec": {
      "name": "python3",
      "display_name": "Python 3"
    },
    "language_info": {
      "name": "python"
    }
  },
  "cells": [
    {
      "cell_type": "markdown",
      "metadata": {
        "id": "view-in-github",
        "colab_type": "text"
      },
      "source": [
        "<a href=\"https://colab.research.google.com/github/revan-desai/NumPy_basics/blob/main/numpy_creating_array_01.ipynb\" target=\"_parent\"><img src=\"https://colab.research.google.com/assets/colab-badge.svg\" alt=\"Open In Colab\"/></a>"
      ]
    },
    {
      "cell_type": "markdown",
      "source": [
        "## 0-D zero dimensional array"
      ],
      "metadata": {
        "id": "drStzzQKNCDl"
      }
    },
    {
      "cell_type": "code",
      "execution_count": null,
      "metadata": {
        "colab": {
          "base_uri": "https://localhost:8080/"
        },
        "id": "321g7_V6MmPz",
        "outputId": "f8b8f50c-1261-4862-ee39-ff1da6a98618"
      },
      "outputs": [
        {
          "output_type": "stream",
          "name": "stdout",
          "text": [
            "12\n",
            "0\n"
          ]
        }
      ],
      "source": [
        "import numpy as np\n",
        "\n",
        "a=np.array(12)   # dont put [] here ,it will make this array one dimensional not zero.\n",
        "\n",
        "print(a)\n",
        "print(a.ndim)\n"
      ]
    },
    {
      "cell_type": "markdown",
      "source": [
        "## 1-D one dimensional array"
      ],
      "metadata": {
        "id": "JGDdj02vNc2l"
      }
    },
    {
      "cell_type": "code",
      "source": [
        "import numpy as np\n",
        "a1=np.array([5,9,6,7,3])\n",
        "print(a1)\n",
        "print(a1.ndim)"
      ],
      "metadata": {
        "id": "-JQ-ubQBNj1N"
      },
      "execution_count": null,
      "outputs": []
    },
    {
      "cell_type": "markdown",
      "source": [
        "## 2-D one dimensional array"
      ],
      "metadata": {
        "id": "P_euUx9RNz-8"
      }
    },
    {
      "cell_type": "code",
      "source": [
        "import numpy as np\n",
        "a2=np.array([[99,44,33],[25,47,12]])\n",
        "print(a2)\n",
        "print(\"dimention of this array are\", a2.ndim)\n"
      ],
      "metadata": {
        "colab": {
          "base_uri": "https://localhost:8080/"
        },
        "id": "JWWTbbj6N39U",
        "outputId": "1d0c277f-c91f-40ce-f521-bcdb549c5b2c"
      },
      "execution_count": 2,
      "outputs": [
        {
          "output_type": "stream",
          "name": "stdout",
          "text": [
            "[[99 44 33]\n",
            " [25 47 12]]\n",
            "dimention of this array are 2\n"
          ]
        }
      ]
    },
    {
      "cell_type": "markdown",
      "source": [
        "## 3-D one dimensional array"
      ],
      "metadata": {
        "id": "4VZU8kztPPbd"
      }
    },
    {
      "cell_type": "code",
      "source": [
        "import numpy as np\n",
        "a3=np.array([[[55,23,11],[25,98,74]],[[25,63,48],[11,79,43]]])\n",
        "print(a3)\n",
        "print(a3.ndim)"
      ],
      "metadata": {
        "colab": {
          "base_uri": "https://localhost:8080/"
        },
        "id": "_AeGnqDBQKUK",
        "outputId": "b61f7320-72b8-4177-9e28-9c838d5d2b6f"
      },
      "execution_count": 10,
      "outputs": [
        {
          "output_type": "stream",
          "name": "stdout",
          "text": [
            "[[[55 23 11]\n",
            "  [25 98 74]]\n",
            "\n",
            " [[25 63 48]\n",
            "  [11 79 43]]]\n",
            "3\n"
          ]
        }
      ]
    },
    {
      "cell_type": "code",
      "source": [
        "arr=np.array(5)         # zero dimensional array\n",
        "\n",
        "arr1=np.array([1,3,8])  # 1 dimensional array\n",
        "\n",
        "arr2=np.array([[41,12,59],[58,23,45]])        # 2 dimensional array\n",
        "# print(arr2[1])\n",
        "\n",
        "arr3=np.array([ [ [1,2,3],[8,9,1] ],[ [2,3,5],[8,7,3] ] ])\n",
        "\n",
        "print(\"dimensions of arr are\" , arr.ndim )\n",
        "\n",
        "print(\"dimensions of arr1 are\" , arr1.ndim )\n",
        "\n",
        "print(\"dimensions of arr2 are\" , arr2.ndim )\n",
        "\n",
        "print(\"dimensions of arr3 are\" , arr3.ndim )"
      ],
      "metadata": {
        "colab": {
          "base_uri": "https://localhost:8080/"
        },
        "id": "T7UFsGPTW_A7",
        "outputId": "246be924-1754-4de9-b2b8-c5ec86a3db2e"
      },
      "execution_count": 13,
      "outputs": [
        {
          "output_type": "stream",
          "name": "stdout",
          "text": [
            "dimensions of arr are 0\n",
            "dimensions of arr1 are 1\n",
            "dimensions of arr2 are 2\n",
            "dimensions of arr3 are 3\n"
          ]
        }
      ]
    }
  ]
}