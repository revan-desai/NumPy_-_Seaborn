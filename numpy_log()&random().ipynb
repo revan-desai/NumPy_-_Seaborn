{
  "nbformat": 4,
  "nbformat_minor": 0,
  "metadata": {
    "colab": {
      "provenance": [],
      "authorship_tag": "ABX9TyNPv/KmjqwueO3hNZ3F/R45",
      "include_colab_link": true
    },
    "kernelspec": {
      "name": "python3",
      "display_name": "Python 3"
    },
    "language_info": {
      "name": "python"
    }
  },
  "cells": [
    {
      "cell_type": "markdown",
      "metadata": {
        "id": "view-in-github",
        "colab_type": "text"
      },
      "source": [
        "<a href=\"https://colab.research.google.com/github/revan-desai/NumPy_basics/blob/main/numpy_log()%26random().ipynb\" target=\"_parent\"><img src=\"https://colab.research.google.com/assets/colab-badge.svg\" alt=\"Open In Colab\"/></a>"
      ]
    },
    {
      "cell_type": "code",
      "execution_count": 5,
      "metadata": {
        "colab": {
          "base_uri": "https://localhost:8080/"
        },
        "id": "yyTRZSQfJ1Ct",
        "outputId": "db9b1bc9-f40e-4700-d0e1-12732d75f526"
      },
      "outputs": [
        {
          "output_type": "stream",
          "name": "stdout",
          "text": [
            "[0.         1.60943791 2.07944154 2.77258872]\n",
            "[0.         2.32192809 3.         4.        ]\n",
            "[0.         0.69897    0.90308999 1.20411998]\n"
          ]
        }
      ],
      "source": [
        "import numpy as np\n",
        "\n",
        "arr=np.array([1,5,8,16])\n",
        "\n",
        "l1=np.log(arr)\n",
        "\n",
        "l2=np.log2(arr)\n",
        "\n",
        "l3=np.log10(arr)\n",
        "\n",
        "print(l1)\n",
        "\n",
        "print(l2)\n",
        "\n",
        "print(l3)"
      ]
    },
    {
      "cell_type": "markdown",
      "source": [
        "# random()--- all functions covered here"
      ],
      "metadata": {
        "id": "PC_KWexQZX5j"
      }
    },
    {
      "cell_type": "markdown",
      "source": [
        "## 1. np.random.random(())"
      ],
      "metadata": {
        "id": "I8Cdx7YGZvRU"
      }
    },
    {
      "cell_type": "code",
      "source": [
        "import numpy as np\n",
        "\n",
        "a=np.random.random((3,3))\n",
        "\n",
        "print(a)"
      ],
      "metadata": {
        "colab": {
          "base_uri": "https://localhost:8080/"
        },
        "id": "6f1hSmAnQd5u",
        "outputId": "324631df-dc11-4193-a5e5-541849a45a76"
      },
      "execution_count": 2,
      "outputs": [
        {
          "output_type": "stream",
          "name": "stdout",
          "text": [
            "[[0.94026551 0.02539262 0.58772664]\n",
            " [0.85006259 0.42922649 0.92412568]\n",
            " [0.57488298 0.88231317 0.06466053]]\n"
          ]
        }
      ]
    },
    {
      "cell_type": "code",
      "source": [
        "import numpy as np\n",
        "\n",
        "a1=np.random.random((2,3,3))\n",
        "\n",
        "print(a1)"
      ],
      "metadata": {
        "colab": {
          "base_uri": "https://localhost:8080/"
        },
        "id": "-ip_kL5HZ3yD",
        "outputId": "71fc24de-e448-41a4-d673-e527e5b2cfb5"
      },
      "execution_count": 5,
      "outputs": [
        {
          "output_type": "stream",
          "name": "stdout",
          "text": [
            "[[[0.74121996 0.99216078 0.95355413]\n",
            "  [0.06083892 0.84454787 0.34541165]\n",
            "  [0.41005451 0.33501009 0.55077185]]\n",
            "\n",
            " [[0.87672368 0.96017803 0.61764365]\n",
            "  [0.02328607 0.43037559 0.12590854]\n",
            "  [0.79602134 0.25940668 0.74378101]]]\n"
          ]
        }
      ]
    },
    {
      "cell_type": "markdown",
      "source": [
        "##2. random.rand() -->only difference between random.random()and random.rand() is syntax as i have tested"
      ],
      "metadata": {
        "id": "SWf3-YlHbRr-"
      }
    },
    {
      "cell_type": "code",
      "source": [
        "import numpy as np\n",
        "\n",
        "a1=np.random.rand(3,3)\n",
        "print(a1)"
      ],
      "metadata": {
        "colab": {
          "base_uri": "https://localhost:8080/"
        },
        "id": "EVwH_rADbYk1",
        "outputId": "66fb10fb-daf3-49d3-bd02-50223d8dd5a2"
      },
      "execution_count": 7,
      "outputs": [
        {
          "output_type": "stream",
          "name": "stdout",
          "text": [
            "[[[0.3561597  0.40894748 0.3574062 ]\n",
            "  [0.90984895 0.67277796 0.49029981]\n",
            "  [0.87443136 0.85720667 0.04367079]]\n",
            "\n",
            " [[0.55437095 0.41366466 0.1022854 ]\n",
            "  [0.85415337 0.9254193  0.66078089]\n",
            "  [0.61503139 0.13226524 0.17104639]]]\n"
          ]
        }
      ]
    },
    {
      "cell_type": "code",
      "source": [
        "import numpy as np\n",
        "\n",
        "a2=np.random.rand(2,3,3)\n",
        "\n",
        "print(a2)"
      ],
      "metadata": {
        "colab": {
          "base_uri": "https://localhost:8080/"
        },
        "id": "yBwRjPU3cGRC",
        "outputId": "a5200b65-4271-4ba6-c61b-fa601baf2d06"
      },
      "execution_count": 8,
      "outputs": [
        {
          "output_type": "stream",
          "name": "stdout",
          "text": [
            "[[[0.45377075 0.92172489 0.9297905 ]\n",
            "  [0.32421727 0.11627038 0.13381086]\n",
            "  [0.40698748 0.3007575  0.55852294]]\n",
            "\n",
            " [[0.85618927 0.89058462 0.43459661]\n",
            "  [0.4089093  0.17792398 0.32373227]\n",
            "  [0.31981718 0.72865331 0.16037733]]]\n"
          ]
        }
      ]
    },
    {
      "cell_type": "markdown",
      "source": [
        "## 3.random.randn()---> extra n in randn stands  for negative so it provide both positive and negative values\n",
        "\n",
        "only difference in random.rand() and random.randn()  is latter provide negative values as well along with positive values"
      ],
      "metadata": {
        "id": "BD5ibkhScPXj"
      }
    },
    {
      "cell_type": "code",
      "source": [
        "import numpy as np\n",
        "\n",
        "b2=np.random.randn(3,3)\n",
        "\n",
        "print(b2)"
      ],
      "metadata": {
        "colab": {
          "base_uri": "https://localhost:8080/"
        },
        "id": "2boaO8WEO5Pp",
        "outputId": "38b48abf-944d-455e-986f-332661669e56"
      },
      "execution_count": 9,
      "outputs": [
        {
          "output_type": "stream",
          "name": "stdout",
          "text": [
            "[[ 0.30107259 -0.84561928 -0.73938142]\n",
            " [ 0.16254013  1.25713167 -1.09628041]\n",
            " [ 0.6736893  -0.33614297  1.00727664]]\n"
          ]
        }
      ]
    },
    {
      "cell_type": "markdown",
      "source": [
        "##4.random.randint()"
      ],
      "metadata": {
        "id": "Z5Cupj-nPvOY"
      }
    },
    {
      "cell_type": "code",
      "source": [
        "import numpy as np\n",
        "\n",
        "i=np.random.randint(1,5)  # will return any random number between 1 to 4 ......5 not included\n",
        "\n",
        "print(i)"
      ],
      "metadata": {
        "colab": {
          "base_uri": "https://localhost:8080/"
        },
        "id": "qbYI3Jeiez5c",
        "outputId": "f2ed647c-98a9-477f-ad1e-5e7da3784e20"
      },
      "execution_count": 34,
      "outputs": [
        {
          "output_type": "stream",
          "name": "stdout",
          "text": [
            "4\n"
          ]
        }
      ]
    },
    {
      "cell_type": "code",
      "source": [
        "import numpy as np\n",
        "\n",
        "i=np.random.randint(1,5,size=(3,3))      # will return random matrix\n",
        "\n",
        "print(i)"
      ],
      "metadata": {
        "colab": {
          "base_uri": "https://localhost:8080/"
        },
        "id": "mkuxIGPyfll5",
        "outputId": "e741d81c-7ea6-4a70-b50d-73906f08281b"
      },
      "execution_count": 36,
      "outputs": [
        {
          "output_type": "stream",
          "name": "stdout",
          "text": [
            "[[1 2 1]\n",
            " [2 4 4]\n",
            " [3 2 4]]\n"
          ]
        }
      ]
    },
    {
      "cell_type": "markdown",
      "source": [
        "## random.choice()-->here you can pass percentage for each value to generate"
      ],
      "metadata": {
        "id": "Iqpmla8QiljV"
      }
    },
    {
      "cell_type": "code",
      "source": [
        "import numpy as np\n",
        "\n",
        "names=['rohan','john','bob','sunny']\n",
        "\n",
        "ch=np.random.choice(names,size=(3,3),p=[0.5,0.5,0,0]) #here  we gave 50% chance to rohan and john .....and 0% for bob and sunny\n",
        "\n",
        "print(ch)"
      ],
      "metadata": {
        "colab": {
          "base_uri": "https://localhost:8080/"
        },
        "id": "9XwyvuUbilBE",
        "outputId": "40bf80e6-c1c8-45d3-9615-c0edb345ffc4"
      },
      "execution_count": 37,
      "outputs": [
        {
          "output_type": "stream",
          "name": "stdout",
          "text": [
            "[['rohan' 'rohan' 'rohan']\n",
            " ['rohan' 'rohan' 'john']\n",
            " ['john' 'rohan' 'john']]\n"
          ]
        }
      ]
    },
    {
      "cell_type": "code",
      "source": [
        "import numpy as np\n",
        "\n",
        "names=['rohan','john','bob','sunny']\n",
        "\n",
        "ch=np.random.choice(names,size=(3,3),p=[0.5,0.2,0.3,0])\n",
        "\n",
        "print(ch)"
      ],
      "metadata": {
        "colab": {
          "base_uri": "https://localhost:8080/"
        },
        "id": "3jb1EnUvjWV0",
        "outputId": "74e475c4-81e3-42d5-9df7-c356c96118ea"
      },
      "execution_count": 38,
      "outputs": [
        {
          "output_type": "stream",
          "name": "stdout",
          "text": [
            "[['rohan' 'bob' 'rohan']\n",
            " ['rohan' 'bob' 'bob']\n",
            " ['rohan' 'john' 'bob']]\n"
          ]
        }
      ]
    }
  ]
}