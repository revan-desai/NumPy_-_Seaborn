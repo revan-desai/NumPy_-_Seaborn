{
  "nbformat": 4,
  "nbformat_minor": 0,
  "metadata": {
    "colab": {
      "provenance": [],
      "authorship_tag": "ABX9TyMKHk6sJpguYwyT8cgmmshd",
      "include_colab_link": true
    },
    "kernelspec": {
      "name": "python3",
      "display_name": "Python 3"
    },
    "language_info": {
      "name": "python"
    }
  },
  "cells": [
    {
      "cell_type": "markdown",
      "metadata": {
        "id": "view-in-github",
        "colab_type": "text"
      },
      "source": [
        "<a href=\"https://colab.research.google.com/github/revan-desai/NumPy_basics/blob/main/numpy_change_datatype_04.ipynb\" target=\"_parent\"><img src=\"https://colab.research.google.com/assets/colab-badge.svg\" alt=\"Open In Colab\"/></a>"
      ]
    },
    {
      "cell_type": "code",
      "execution_count": 2,
      "metadata": {
        "colab": {
          "base_uri": "https://localhost:8080/"
        },
        "id": "ORopLBYHNTy6",
        "outputId": "d83e0297-318b-45d6-fbc9-f1cf833abfb2"
      },
      "outputs": [
        {
          "output_type": "stream",
          "name": "stdout",
          "text": [
            "[1.+0.j 5.+0.j 3.+0.j 6.+0.j]\n"
          ]
        }
      ],
      "source": [
        "import numpy as np\n",
        "\n",
        "arr=np.array([1,5,3,6],complex)\n",
        "\n",
        "print(arr)"
      ]
    },
    {
      "cell_type": "code",
      "source": [
        "arr=np.array([1,5,3,6],str)\n",
        "\n",
        "print(arr)"
      ],
      "metadata": {
        "colab": {
          "base_uri": "https://localhost:8080/"
        },
        "id": "JuDKVujxNpt5",
        "outputId": "8c52eba8-6509-431e-a226-38879cd8951c"
      },
      "execution_count": 3,
      "outputs": [
        {
          "output_type": "stream",
          "name": "stdout",
          "text": [
            "['1' '5' '3' '6']\n"
          ]
        }
      ]
    },
    {
      "cell_type": "code",
      "source": [
        "arr=np.array([5.6,7.4,3.8,9.6,4.2],int)\n",
        "\n",
        "print(arr)"
      ],
      "metadata": {
        "colab": {
          "base_uri": "https://localhost:8080/"
        },
        "id": "9VPrP_MjNyu7",
        "outputId": "557fd149-ff2c-4f85-d28d-cdeedcfacefc"
      },
      "execution_count": 4,
      "outputs": [
        {
          "output_type": "stream",
          "name": "stdout",
          "text": [
            "[5 7 3 9 4]\n"
          ]
        }
      ]
    },
    {
      "cell_type": "code",
      "source": [
        "arr=np.array([[5,4,7,8,9]])   #this is also 2 dimensional array\n",
        "\n",
        "arr.ndim"
      ],
      "metadata": {
        "id": "nyXv28w4NvoM"
      },
      "execution_count": null,
      "outputs": []
    }
  ]
}