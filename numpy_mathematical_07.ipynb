{
  "nbformat": 4,
  "nbformat_minor": 0,
  "metadata": {
    "colab": {
      "provenance": [],
      "authorship_tag": "ABX9TyNzr+J1wrH287qOxZPBQ3jS",
      "include_colab_link": true
    },
    "kernelspec": {
      "name": "python3",
      "display_name": "Python 3"
    },
    "language_info": {
      "name": "python"
    }
  },
  "cells": [
    {
      "cell_type": "markdown",
      "metadata": {
        "id": "view-in-github",
        "colab_type": "text"
      },
      "source": [
        "<a href=\"https://colab.research.google.com/github/revan-desai/NumPy_basics/blob/main/numpy_mathematical_07.ipynb\" target=\"_parent\"><img src=\"https://colab.research.google.com/assets/colab-badge.svg\" alt=\"Open In Colab\"/></a>"
      ]
    },
    {
      "cell_type": "code",
      "execution_count": 7,
      "metadata": {
        "colab": {
          "base_uri": "https://localhost:8080/"
        },
        "id": "GgWWZlGp-SVX",
        "outputId": "ea6b728b-a365-46f9-f85b-383c81c4b617"
      },
      "outputs": [
        {
          "output_type": "stream",
          "name": "stdout",
          "text": [
            "[ 0.         -0.98803162  0.85090352 -0.30481062  0.89399666 -0.80115264\n",
            "  0.95891572]\n",
            "[ 1.          0.15425145  0.52532199 -0.95241298 -0.44807362 -0.59846007\n",
            " -0.28369109]\n",
            "[ 0.         -6.4053312   1.61977519  0.32004039 -1.99520041  1.33869021\n",
            " -3.38014041]\n"
          ]
        }
      ],
      "source": [
        "import numpy as np\n",
        "\n",
        "arr=np.array([0,30,45,60,90,180,360])\n",
        "\n",
        "s1=np.sin(arr)\n",
        "\n",
        "s2=np.cos(arr)\n",
        "\n",
        "s3=np.tan(arr)\n",
        "\n",
        "print(s1)\n",
        "\n",
        "print(s2)\n",
        "\n",
        "print(s3)"
      ]
    },
    {
      "cell_type": "markdown",
      "source": [
        "## numpy where() function"
      ],
      "metadata": {
        "id": "XzKaSZhJA4tF"
      }
    },
    {
      "cell_type": "code",
      "source": [
        "import numpy as np\n",
        "b=np.array([15,25,50,5,4,47,89,9])\n",
        "\n",
        "print(np.where(b>12))  # this will return indexes of the values greater than 12"
      ],
      "metadata": {
        "colab": {
          "base_uri": "https://localhost:8080/"
        },
        "id": "j04s4XKj_qSp",
        "outputId": "6ff70a93-9d47-44de-d42e-18228f5e379e"
      },
      "execution_count": 10,
      "outputs": [
        {
          "output_type": "stream",
          "name": "stdout",
          "text": [
            "(array([0, 1, 2, 5, 6]),)\n"
          ]
        }
      ]
    },
    {
      "cell_type": "code",
      "source": [
        "b1=np.array([[5,2,3],[8,7,9]])\n",
        "\n",
        "print(np.where(b1>6))"
      ],
      "metadata": {
        "colab": {
          "base_uri": "https://localhost:8080/"
        },
        "id": "XWjbVsVUBnlc",
        "outputId": "0ec86028-95a2-4749-d57d-4a5c02b57f05"
      },
      "execution_count": 13,
      "outputs": [
        {
          "output_type": "stream",
          "name": "stdout",
          "text": [
            "9\n",
            "(array([1, 1, 1]), array([0, 1, 2]))\n"
          ]
        }
      ]
    }
  ]
}